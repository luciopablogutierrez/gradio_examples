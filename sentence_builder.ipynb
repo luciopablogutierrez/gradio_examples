{
  "nbformat": 4,
  "nbformat_minor": 0,
  "metadata": {
    "colab": {
      "provenance": [],
      "include_colab_link": true
    },
    "kernelspec": {
      "name": "python3",
      "display_name": "Python 3"
    }
  },
  "cells": [
    {
      "cell_type": "markdown",
      "metadata": {
        "id": "view-in-github",
        "colab_type": "text"
      },
      "source": [
        "<a href=\"https://colab.research.google.com/github/luciopablogutierrez/gradio_examples/blob/main/sentence_builder.ipynb\" target=\"_parent\"><img src=\"https://colab.research.google.com/assets/colab-badge.svg\" alt=\"Open In Colab\"/></a>"
      ]
    },
    {
      "cell_type": "code",
      "metadata": {
        "id": "fJUJLWQ92g6R"
      },
      "source": [
        "!pip install -q gradio"
      ],
      "execution_count": null,
      "outputs": []
    },
    {
      "cell_type": "code",
      "metadata": {
        "id": "e200MmBU2aLT",
        "outputId": "3e284a3d-fb15-4be8-b6d5-bf915771ec62",
        "colab": {
          "base_uri": "https://localhost:8080/",
          "height": 401
        }
      },
      "source": [
        "import gradio as gr  # Importa la biblioteca Gradio\n",
        "\n",
        "# Define una función que construye una oración basada en varios parámetros\n",
        "def constructor_de_oraciones(cantidad, animal, lugar, lista_de_actividades, mañana):\n",
        "    # Retorna una cadena con la oración construida usando los parámetros proporcionados\n",
        "    return f\"\"\"Los {cantidad} {animal}s fueron al {lugar} donde {\" y \".join(lista_de_actividades)} hasta la {\"mañana\" if mañana else \"noche\"}\"\"\"\n",
        "\n",
        "# Define la interfaz de Gradio\n",
        "iface = gr.Interface(\n",
        "    fn=constructor_de_oraciones,  # La función que se llamará cuando se use la interfaz\n",
        "    inputs=[\n",
        "        gr.Slider(2, 20, label=\"Cantidad\"),  # Control deslizante para seleccionar la cantidad\n",
        "        gr.Dropdown([\"gato\", \"perro\", \"pájaro\"], label=\"Animal\"),  # Desplegable para seleccionar el animal\n",
        "        gr.Radio([\"parque\", \"zoológico\", \"camino\"], label=\"Lugar\"),  # Botones de radio para seleccionar el lugar\n",
        "        gr.CheckboxGroup([\"corrieron\", \"nadaron\", \"comieron\", \"durmieron\"], label=\"Actividades\"),  # Grupo de checkboxes para seleccionar las actividades\n",
        "        gr.Checkbox(label=\"¿Es de mañana?\"),  # Checkbox para seleccionar si es de mañana o no\n",
        "    ],\n",
        "    outputs=\"text\",  # El tipo de salida será texto\n",
        "    examples=[\n",
        "        [2, \"gato\", \"parque\", [\"corrieron\", \"nadaron\"], True],  # Ejemplo 1\n",
        "        [4, \"perro\", \"zoológico\", [\"comieron\", \"nadaron\"], False],  # Ejemplo 2\n",
        "        [10, \"pájaro\", \"camino\", [\"corrieron\"], False],  # Ejemplo 3\n",
        "        [8, \"gato\", \"zoológico\", [\"comieron\"], True],  # Ejemplo 4\n",
        "    ],\n",
        ")\n",
        "\n",
        "# Lanza la interfaz para que esté disponible en un navegador web\n",
        "iface.launch()\n"
      ],
      "execution_count": 2,
      "outputs": [
        {
          "output_type": "error",
          "ename": "ModuleNotFoundError",
          "evalue": "No module named 'gradio'",
          "traceback": [
            "\u001b[0;31m---------------------------------------------------------------------------\u001b[0m",
            "\u001b[0;31mModuleNotFoundError\u001b[0m                       Traceback (most recent call last)",
            "\u001b[0;32m<ipython-input-2-76c6ffe1652d>\u001b[0m in \u001b[0;36m<cell line: 1>\u001b[0;34m()\u001b[0m\n\u001b[0;32m----> 1\u001b[0;31m \u001b[0;32mimport\u001b[0m \u001b[0mgradio\u001b[0m \u001b[0;32mas\u001b[0m \u001b[0mgr\u001b[0m\u001b[0;34m\u001b[0m\u001b[0;34m\u001b[0m\u001b[0m\n\u001b[0m\u001b[1;32m      2\u001b[0m \u001b[0;34m\u001b[0m\u001b[0m\n\u001b[1;32m      3\u001b[0m \u001b[0;32mdef\u001b[0m \u001b[0mconstructor_de_oraciones\u001b[0m\u001b[0;34m(\u001b[0m\u001b[0mcantidad\u001b[0m\u001b[0;34m,\u001b[0m \u001b[0manimal\u001b[0m\u001b[0;34m,\u001b[0m \u001b[0mlugar\u001b[0m\u001b[0;34m,\u001b[0m \u001b[0mlista_de_actividades\u001b[0m\u001b[0;34m,\u001b[0m \u001b[0mmañana\u001b[0m\u001b[0;34m)\u001b[0m\u001b[0;34m:\u001b[0m\u001b[0;34m\u001b[0m\u001b[0;34m\u001b[0m\u001b[0m\n\u001b[1;32m      4\u001b[0m     \u001b[0;32mreturn\u001b[0m \u001b[0;34mf\"\"\"Los {cantidad} {animal}s fueron al {lugar} donde {\" y \".join(lista_de_actividades)} hasta la {\"mañana\" if mañana else \"noche\"}\"\"\"\u001b[0m\u001b[0;34m\u001b[0m\u001b[0;34m\u001b[0m\u001b[0m\n\u001b[1;32m      5\u001b[0m \u001b[0;34m\u001b[0m\u001b[0m\n",
            "\u001b[0;31mModuleNotFoundError\u001b[0m: No module named 'gradio'",
            "",
            "\u001b[0;31m---------------------------------------------------------------------------\u001b[0;32m\nNOTE: If your import is failing due to a missing package, you can\nmanually install dependencies using either !pip or !apt.\n\nTo view examples of installing some common dependencies, click the\n\"Open Examples\" button below.\n\u001b[0;31m---------------------------------------------------------------------------\u001b[0m\n"
          ],
          "errorDetails": {
            "actions": [
              {
                "action": "open_url",
                "actionText": "Open Examples",
                "url": "/notebooks/snippets/importing_libraries.ipynb"
              }
            ]
          }
        }
      ]
    }
  ]
}